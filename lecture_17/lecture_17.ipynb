{
 "cells": [
  {
   "attachments": {},
   "cell_type": "markdown",
   "metadata": {},
   "source": [
    "# <span style=\"color:darkblue\"> Lecture 17 - Practicing Chaining </span>\n",
    "\n",
    "<font size = \"5\">\n",
    "\n",
    "In this lecture you will get a chance to practice <br>\n",
    "the main dataset operations\n",
    "\n",
    "- There will be a quiz on this lecture"
   ]
  },
  {
   "attachments": {},
   "cell_type": "markdown",
   "metadata": {},
   "source": [
    "# <span style=\"color:darkblue\"> I. Import Libraries and Data </span>\n"
   ]
  },
  {
   "cell_type": "code",
   "execution_count": 2,
   "metadata": {},
   "outputs": [],
   "source": [
    "import numpy as np\n",
    "import pandas as pd"
   ]
  },
  {
   "cell_type": "code",
   "execution_count": 4,
   "metadata": {},
   "outputs": [],
   "source": [
    "results  = pd.read_csv(\"data_raw/results.csv\")\n",
    "races    = pd.read_csv(\"data_raw/races.csv\")\n",
    "results[\"points col\"] = results[\"points\"]"
   ]
  },
  {
   "attachments": {},
   "cell_type": "markdown",
   "metadata": {},
   "source": [
    "# <span style=\"color:darkblue\"> II. Review Dataset Operations </span>\n",
    "\n",
    "<font size = \"5\">\n",
    "\n",
    "See attached file for a refresher on syntax\n",
    "\n",
    "```[] ``` $\\qquad \\qquad \\qquad \\quad$: Extracting columns <br>\n",
    "```.query() ``` $\\qquad \\qquad $: Subsetting rows <br>\n",
    "```.recode() ``` $ \\qquad \\quad \\ \\ $: Replacing values <br>\n",
    "```.groupby().agg() ```: Aggregate statistics by subgroup <br>\n",
    "```.rename() ``` $\\qquad \\quad \\ \\ $: Change name of columns\n",
    "\n",
    "Full list:\n",
    "\n",
    "<font size = \"4\">\n",
    "\n",
    "https://www.w3schools.com/python/pandas/pandas_ref_dataframe.asp"
   ]
  },
  {
   "attachments": {},
   "cell_type": "markdown",
   "metadata": {},
   "source": [
    "# <span style=\"color:darkblue\"> III. Examples of Chaining </span>\n",
    "\n",
    "<font size = \"5\">\n",
    "\n",
    "The operations with \".\" are read left to right\n",
    "\n",
    "- Combine any of the above operations\n",
    "- Great way to make code efficient\n",
    "- The sky's the limit!\n",
    "\n",
    "\n",
    "Subsetting **before** extracting columns"
   ]
  },
  {
   "cell_type": "code",
   "execution_count": 5,
   "metadata": {},
   "outputs": [
    {
     "data": {
      "application/vnd.microsoft.datawrangler.viewer.v0+json": {
       "columns": [
        {
         "name": "index",
         "rawType": "int64",
         "type": "integer"
        },
        {
         "name": "driverId",
         "rawType": "int64",
         "type": "integer"
        },
        {
         "name": "points",
         "rawType": "float64",
         "type": "float"
        }
       ],
       "conversionMethod": "pd.DataFrame",
       "ref": "d96e10bb-4e12-456e-824e-21e734f8c2c2",
       "rows": [
        [
         "20320",
         "4",
         "25.0"
        ],
        [
         "20344",
         "18",
         "25.0"
        ],
        [
         "20368",
         "20",
         "25.0"
        ],
        [
         "20392",
         "18",
         "25.0"
        ],
        [
         "20416",
         "17",
         "25.0"
        ],
        [
         "20440",
         "17",
         "25.0"
        ],
        [
         "20464",
         "1",
         "25.0"
        ],
        [
         "20488",
         "1",
         "25.0"
        ],
        [
         "20512",
         "20",
         "25.0"
        ],
        [
         "20536",
         "17",
         "25.0"
        ],
        [
         "20560",
         "4",
         "25.0"
        ],
        [
         "20584",
         "17",
         "25.0"
        ],
        [
         "20608",
         "1",
         "25.0"
        ],
        [
         "20632",
         "4",
         "25.0"
        ],
        [
         "20656",
         "4",
         "25.0"
        ],
        [
         "20680",
         "20",
         "25.0"
        ],
        [
         "20704",
         "4",
         "25.0"
        ],
        [
         "20728",
         "20",
         "25.0"
        ],
        [
         "20752",
         "20",
         "25.0"
        ],
        [
         "20776",
         "20",
         "25.0"
        ],
        [
         "20798",
         "20",
         "25.0"
        ],
        [
         "20822",
         "1",
         "25.0"
        ],
        [
         "20846",
         "20",
         "25.0"
        ],
        [
         "20870",
         "20",
         "25.0"
        ],
        [
         "20894",
         "20",
         "25.0"
        ],
        [
         "20917",
         "18",
         "25.0"
        ],
        [
         "20941",
         "20",
         "25.0"
        ],
        [
         "20965",
         "4",
         "25.0"
        ],
        [
         "20989",
         "1",
         "25.0"
        ],
        [
         "21013",
         "18",
         "25.0"
        ],
        [
         "21037",
         "20",
         "25.0"
        ],
        [
         "21061",
         "20",
         "25.0"
        ],
        [
         "21085",
         "20",
         "25.0"
        ],
        [
         "21109",
         "18",
         "25.0"
        ],
        [
         "21133",
         "20",
         "25.0"
        ],
        [
         "21157",
         "20",
         "25.0"
        ],
        [
         "21181",
         "1",
         "25.0"
        ],
        [
         "21205",
         "17",
         "25.0"
        ],
        [
         "21229",
         "18",
         "25.0"
        ],
        [
         "21253",
         "4",
         "25.0"
        ],
        [
         "21277",
         "3",
         "25.0"
        ],
        [
         "21301",
         "20",
         "25.0"
        ],
        [
         "21325",
         "813",
         "25.0"
        ],
        [
         "21349",
         "17",
         "25.0"
        ],
        [
         "21373",
         "1",
         "25.0"
        ],
        [
         "21397",
         "4",
         "25.0"
        ],
        [
         "21421",
         "17",
         "25.0"
        ],
        [
         "21445",
         "4",
         "25.0"
        ],
        [
         "21469",
         "1",
         "25.0"
        ],
        [
         "21493",
         "18",
         "25.0"
        ]
       ],
       "shape": {
        "columns": 2,
        "rows": 262
       }
      },
      "text/html": [
       "<div>\n",
       "<style scoped>\n",
       "    .dataframe tbody tr th:only-of-type {\n",
       "        vertical-align: middle;\n",
       "    }\n",
       "\n",
       "    .dataframe tbody tr th {\n",
       "        vertical-align: top;\n",
       "    }\n",
       "\n",
       "    .dataframe thead th {\n",
       "        text-align: right;\n",
       "    }\n",
       "</style>\n",
       "<table border=\"1\" class=\"dataframe\">\n",
       "  <thead>\n",
       "    <tr style=\"text-align: right;\">\n",
       "      <th></th>\n",
       "      <th>driverId</th>\n",
       "      <th>points</th>\n",
       "    </tr>\n",
       "  </thead>\n",
       "  <tbody>\n",
       "    <tr>\n",
       "      <th>20320</th>\n",
       "      <td>4</td>\n",
       "      <td>25.0</td>\n",
       "    </tr>\n",
       "    <tr>\n",
       "      <th>20344</th>\n",
       "      <td>18</td>\n",
       "      <td>25.0</td>\n",
       "    </tr>\n",
       "    <tr>\n",
       "      <th>20368</th>\n",
       "      <td>20</td>\n",
       "      <td>25.0</td>\n",
       "    </tr>\n",
       "    <tr>\n",
       "      <th>20392</th>\n",
       "      <td>18</td>\n",
       "      <td>25.0</td>\n",
       "    </tr>\n",
       "    <tr>\n",
       "      <th>20416</th>\n",
       "      <td>17</td>\n",
       "      <td>25.0</td>\n",
       "    </tr>\n",
       "    <tr>\n",
       "      <th>...</th>\n",
       "      <td>...</td>\n",
       "      <td>...</td>\n",
       "    </tr>\n",
       "    <tr>\n",
       "      <th>25740</th>\n",
       "      <td>830</td>\n",
       "      <td>25.0</td>\n",
       "    </tr>\n",
       "    <tr>\n",
       "      <th>25760</th>\n",
       "      <td>830</td>\n",
       "      <td>25.0</td>\n",
       "    </tr>\n",
       "    <tr>\n",
       "      <th>25780</th>\n",
       "      <td>830</td>\n",
       "      <td>25.0</td>\n",
       "    </tr>\n",
       "    <tr>\n",
       "      <th>25800</th>\n",
       "      <td>847</td>\n",
       "      <td>26.0</td>\n",
       "    </tr>\n",
       "    <tr>\n",
       "      <th>25820</th>\n",
       "      <td>830</td>\n",
       "      <td>25.0</td>\n",
       "    </tr>\n",
       "  </tbody>\n",
       "</table>\n",
       "<p>262 rows × 2 columns</p>\n",
       "</div>"
      ],
      "text/plain": [
       "       driverId  points\n",
       "20320         4    25.0\n",
       "20344        18    25.0\n",
       "20368        20    25.0\n",
       "20392        18    25.0\n",
       "20416        17    25.0\n",
       "...         ...     ...\n",
       "25740       830    25.0\n",
       "25760       830    25.0\n",
       "25780       830    25.0\n",
       "25800       847    26.0\n",
       "25820       830    25.0\n",
       "\n",
       "[262 rows x 2 columns]"
      ]
     },
     "execution_count": 5,
     "metadata": {},
     "output_type": "execute_result"
    }
   ],
   "source": [
    "# Get data for drivers that scored more than 20 points on individual races\n",
    "# Then extract the columns \"driverId\" and \"points\"\n",
    "results.query('points >= 20')[[\"driverId\",\"points\"]]"
   ]
  },
  {
   "attachments": {},
   "cell_type": "markdown",
   "metadata": {},
   "source": [
    "<font size = \"5\">\n",
    "\n",
    "Subsetting **before** aggregating"
   ]
  },
  {
   "cell_type": "code",
   "execution_count": 9,
   "metadata": {},
   "outputs": [
    {
     "data": {
      "application/vnd.microsoft.datawrangler.viewer.v0+json": {
       "columns": [
        {
         "name": "constructorId",
         "rawType": "int64",
         "type": "integer"
        },
        {
         "name": "mean_points",
         "rawType": "float64",
         "type": "float"
        }
       ],
       "conversionMethod": "pd.DataFrame",
       "ref": "8758244b-1a90-4f6e-8df6-b436ef5180f1",
       "rows": [
        [
         "1",
         "3.1481481481481484"
        ],
        [
         "3",
         "1.9049235993208828"
        ],
        [
         "4",
         "1.903225806451613"
        ],
        [
         "5",
         "1.2039106145251397"
        ],
        [
         "6",
         "4.910966076696165"
        ],
        [
         "9",
         "11.648958333333333"
        ],
        [
         "10",
         "3.2183544303797467"
        ],
        [
         "11",
         "1.0869565217391304"
        ],
        [
         "15",
         "1.0063291139240507"
        ],
        [
         "21",
         "0.3132530120481928"
        ],
        [
         "25",
         "1.7628205128205128"
        ],
        [
         "26",
         "0.273972602739726"
        ],
        [
         "27",
         "1.7403846153846154"
        ],
        [
         "32",
         "1.4494117647058824"
        ],
        [
         "34",
         "1.117283950617284"
        ],
        [
         "37",
         "0.33053221288515405"
        ],
        [
         "45",
         "0.0"
        ],
        [
         "51",
         "1.2024291497975708"
        ],
        [
         "54",
         "0.02564102564102564"
        ],
        [
         "55",
         "0.0"
        ],
        [
         "56",
         "0.3577981651376147"
        ],
        [
         "57",
         "0.11570247933884298"
        ],
        [
         "58",
         "0.28502415458937197"
        ],
        [
         "59",
         "1.0"
        ],
        [
         "60",
         "0.0"
        ],
        [
         "61",
         "0.0"
        ],
        [
         "62",
         "0.0"
        ],
        [
         "63",
         "0.2076923076923077"
        ],
        [
         "64",
         "0.4948453608247423"
        ],
        [
         "65",
         "0.0"
        ],
        [
         "66",
         "0.9564056939501779"
        ],
        [
         "67",
         "0.5"
        ],
        [
         "68",
         "0.0"
        ],
        [
         "69",
         "0.0"
        ],
        [
         "70",
         "0.0"
        ],
        [
         "71",
         "0.0"
        ],
        [
         "72",
         "0.0"
        ],
        [
         "73",
         "0.375"
        ],
        [
         "74",
         "0.0"
        ],
        [
         "75",
         "0.15789473684210525"
        ],
        [
         "76",
         "0.0"
        ],
        [
         "77",
         "0.0"
        ],
        [
         "78",
         "0.0"
        ],
        [
         "79",
         "0.0"
        ],
        [
         "80",
         "0.10909090909090909"
        ],
        [
         "81",
         "0.09090909090909091"
        ],
        [
         "82",
         "0.7605633802816901"
        ],
        [
         "83",
         "0.0"
        ],
        [
         "84",
         "0.0"
        ],
        [
         "85",
         "0.0"
        ]
       ],
       "shape": {
        "columns": 1,
        "rows": 176
       }
      },
      "text/html": [
       "<div>\n",
       "<style scoped>\n",
       "    .dataframe tbody tr th:only-of-type {\n",
       "        vertical-align: middle;\n",
       "    }\n",
       "\n",
       "    .dataframe tbody tr th {\n",
       "        vertical-align: top;\n",
       "    }\n",
       "\n",
       "    .dataframe thead th {\n",
       "        text-align: right;\n",
       "    }\n",
       "</style>\n",
       "<table border=\"1\" class=\"dataframe\">\n",
       "  <thead>\n",
       "    <tr style=\"text-align: right;\">\n",
       "      <th></th>\n",
       "      <th>mean_points</th>\n",
       "    </tr>\n",
       "    <tr>\n",
       "      <th>constructorId</th>\n",
       "      <th></th>\n",
       "    </tr>\n",
       "  </thead>\n",
       "  <tbody>\n",
       "    <tr>\n",
       "      <th>1</th>\n",
       "      <td>3.148148</td>\n",
       "    </tr>\n",
       "    <tr>\n",
       "      <th>3</th>\n",
       "      <td>1.904924</td>\n",
       "    </tr>\n",
       "    <tr>\n",
       "      <th>4</th>\n",
       "      <td>1.903226</td>\n",
       "    </tr>\n",
       "    <tr>\n",
       "      <th>5</th>\n",
       "      <td>1.203911</td>\n",
       "    </tr>\n",
       "    <tr>\n",
       "      <th>6</th>\n",
       "      <td>4.910966</td>\n",
       "    </tr>\n",
       "    <tr>\n",
       "      <th>...</th>\n",
       "      <td>...</td>\n",
       "    </tr>\n",
       "    <tr>\n",
       "      <th>209</th>\n",
       "      <td>0.012821</td>\n",
       "    </tr>\n",
       "    <tr>\n",
       "      <th>210</th>\n",
       "      <td>0.809028</td>\n",
       "    </tr>\n",
       "    <tr>\n",
       "      <th>211</th>\n",
       "      <td>3.723684</td>\n",
       "    </tr>\n",
       "    <tr>\n",
       "      <th>213</th>\n",
       "      <td>2.327869</td>\n",
       "    </tr>\n",
       "    <tr>\n",
       "      <th>214</th>\n",
       "      <td>3.693182</td>\n",
       "    </tr>\n",
       "  </tbody>\n",
       "</table>\n",
       "<p>176 rows × 1 columns</p>\n",
       "</div>"
      ],
      "text/plain": [
       "               mean_points\n",
       "constructorId             \n",
       "1                 3.148148\n",
       "3                 1.904924\n",
       "4                 1.903226\n",
       "5                 1.203911\n",
       "6                 4.910966\n",
       "...                    ...\n",
       "209               0.012821\n",
       "210               0.809028\n",
       "211               3.723684\n",
       "213               2.327869\n",
       "214               3.693182\n",
       "\n",
       "[176 rows x 1 columns]"
      ]
     },
     "execution_count": 9,
     "metadata": {},
     "output_type": "execute_result"
    }
   ],
   "source": [
    "# This obtains a subset of drivers who competed in races 500 onwards\n",
    "# then computes the average by team (\"constructorId\")\n",
    "\n",
    "(results.query('raceId >= 500')\n",
    "        .groupby(\"constructorId\")\n",
    "        .agg(mean_points = (\"points\",\"mean\")))\n"
   ]
  },
  {
   "attachments": {},
   "cell_type": "markdown",
   "metadata": {},
   "source": [
    "<font size = \"5\">\n",
    "\n",
    "Subsetting **after** aggregating"
   ]
  },
  {
   "cell_type": "code",
   "execution_count": 12,
   "metadata": {},
   "outputs": [
    {
     "data": {
      "application/vnd.microsoft.datawrangler.viewer.v0+json": {
       "columns": [
        {
         "name": "constructorId",
         "rawType": "int64",
         "type": "integer"
        },
        {
         "name": "mean_points",
         "rawType": "float64",
         "type": "float"
        }
       ],
       "conversionMethod": "pd.DataFrame",
       "ref": "db3aaf56-1e29-4a24-8d2c-b9da5d6fc86c",
       "rows": [
        [
         "131",
         "12.363642857142858"
        ]
       ],
       "shape": {
        "columns": 1,
        "rows": 1
       }
      },
      "text/html": [
       "<div>\n",
       "<style scoped>\n",
       "    .dataframe tbody tr th:only-of-type {\n",
       "        vertical-align: middle;\n",
       "    }\n",
       "\n",
       "    .dataframe tbody tr th {\n",
       "        vertical-align: top;\n",
       "    }\n",
       "\n",
       "    .dataframe thead th {\n",
       "        text-align: right;\n",
       "    }\n",
       "</style>\n",
       "<table border=\"1\" class=\"dataframe\">\n",
       "  <thead>\n",
       "    <tr style=\"text-align: right;\">\n",
       "      <th></th>\n",
       "      <th>mean_points</th>\n",
       "    </tr>\n",
       "    <tr>\n",
       "      <th>constructorId</th>\n",
       "      <th></th>\n",
       "    </tr>\n",
       "  </thead>\n",
       "  <tbody>\n",
       "    <tr>\n",
       "      <th>131</th>\n",
       "      <td>12.363643</td>\n",
       "    </tr>\n",
       "  </tbody>\n",
       "</table>\n",
       "</div>"
      ],
      "text/plain": [
       "               mean_points\n",
       "constructorId             \n",
       "131              12.363643"
      ]
     },
     "execution_count": 12,
     "metadata": {},
     "output_type": "execute_result"
    }
   ],
   "source": [
    "# This obtains the average points by team (\"constructorId\"), then \n",
    "# produces a subset of team whose average is higher than 10\n",
    "\n",
    "(results.groupby(\"constructorId\")\n",
    "        .agg(mean_points = (\"points\",\"mean\"))\n",
    "        .query('mean_points >= 10'))"
   ]
  },
  {
   "attachments": {},
   "cell_type": "markdown",
   "metadata": {},
   "source": [
    "<font size = \"5\">\n",
    "\n",
    "Chaining inside queries + NaNs"
   ]
  },
  {
   "cell_type": "code",
   "execution_count": 14,
   "metadata": {},
   "outputs": [],
   "source": [
    "# \"is.na()\" produces a True/False vector, checking for missing values\n",
    "# \"is.notna()\" produces a True/False vector, checking for non-missing values\n",
    "# .str.isnumeric() is used for checking whether individual rows of a\n",
    "# string column are numeric.\n",
    "results[\"points\"].isna()\n",
    "results[\"points\"].notna()\n",
    "\n",
    "subset_nas    = results.query('points.isna()')\n",
    "subset_nonnas = results.query('points.notna()')\n"
   ]
  },
  {
   "cell_type": "markdown",
   "metadata": {},
   "source": [
    "## <span style=\"color:darkblue\"> III. Quiz Structure </span>\n",
    "\n",
    "<font size = \"5\">\n",
    "\n",
    "The day of the quiz I will ...\n",
    "- Provide a dataset with information\n",
    "- Give more specific instructions.\n",
    "- Below, you will see the type of questions that will be asked.\n",
    "- The idea is for you to apply known concepts to new data\n",
    "- You have 50 minutes to complete the quiz\n",
    "\n",
    "Questions\n",
    "\n",
    "(exact wording may change in quiz, but exercise will be very similar)\n"
   ]
  },
  {
   "cell_type": "markdown",
   "metadata": {},
   "source": [
    "\n",
    "<font size = \"5\">\n",
    "\n",
    "(a) Replace the values of a column\n",
    "\n",
    "- Obtain unique string values of a column\n",
    "- Use the \".replace()\" command\n"
   ]
  },
  {
   "cell_type": "code",
   "execution_count": null,
   "metadata": {},
   "outputs": [
    {
     "name": "stdout",
     "output_type": "stream",
     "text": [
      "Unique values: ['A' 'B' 'C']\n",
      "\n",
      "Updated DataFrame:\n",
      "  Category\n",
      "0    Apple\n",
      "1   Banana\n",
      "2    Apple\n",
      "3   Cherry\n",
      "4   Banana\n",
      "5    Apple\n",
      "6   Cherry\n"
     ]
    }
   ],
   "source": [
    "data = {'Category': ['A', 'B', 'A', 'C', 'B', 'A', 'C']}\n",
    "df = pd.DataFrame(data)\n",
    "\n",
    "#unique string values of a column\n",
    "unique_values = df['Category'].unique()\n",
    "\n",
    "#replace values in the 'Category' column using .replace()\n",
    "df['Category'] = df['Category'].replace({'A': 'Apple', 'B': 'Banana', 'C': 'Cherry'})\n",
    "\n",
    "print(df)\n",
    "\n",
    "#print(len(pd.unique(results[\"resultId\"])))\n",
    "#print(len(pd.unique(results[\"raceId\"])))\n",
    "#print(len(pd.unique(results[\"driverId\"])))\n",
    "\n"
   ]
  },
  {
   "attachments": {},
   "cell_type": "markdown",
   "metadata": {},
   "source": [
    "<font size = \"5\">\n",
    "\n",
    "(b) Recode a numeric column\n",
    "\n",
    "- Use the \"pd.cut()\" command to create <br>\n",
    "a new column based on an interval."
   ]
  },
  {
   "cell_type": "code",
   "execution_count": null,
   "metadata": {},
   "outputs": [],
   "source": [
    "\n",
    "bins_x = [0, 3, 10, 20, float('inf')]\n",
    "labels_x = ['Podium', 'Points', 'Midfield', 'Backmarker']\n",
    "\n",
    "result[\"finish_category\"] = pd.cut(result[\"positionOrder\"],\n",
    "                              bins = bins_x,\n",
    "                              right = True,\n",
    "                              labels = labels_x)\n",
    "\n",
    "print(result[['positionOrder', 'finish_category']])\n",
    "\n"
   ]
  },
  {
   "cell_type": "markdown",
   "metadata": {},
   "source": [
    "<font size = \"5\">\n",
    "\n",
    "(c) Aggregate and query\n",
    "\n",
    "- Use a combniation of the following commands <br>\n",
    "to produce a new dataset <br>\n",
    "``` .query() ``` <br>\n",
    "``` .groupby().agg() ``` <br>"
   ]
  },
  {
   "cell_type": "code",
   "execution_count": null,
   "metadata": {},
   "outputs": [],
   "source": [
    "teamrace_agg = (results.query(\"raceId >= 500\")\n",
    "                       .groupby([\"raceId\",\"constructorId\"])\n",
    "                        .agg(mean_points = ('points','mean'),\n",
    "                             sd_points =   ('points','std'),\n",
    "                             min_points =  ('points','min'),\n",
    "                             max_points =  ('points','max'),\n",
    "                             count_obs   = ('points',len)))"
   ]
  },
  {
   "cell_type": "markdown",
   "metadata": {},
   "source": [
    "<font size = \"5\">\n",
    "\n",
    "(d) Aggregate and sort\n",
    "\n",
    "- Use a combniation of the following commands <br>\n",
    "to produce a new dataset <br>\n",
    "``` .groupby().agg() ``` <br>\n",
    "``` .sort_values() ```"
   ]
  },
  {
   "cell_type": "code",
   "execution_count": null,
   "metadata": {},
   "outputs": [],
   "source": [
    "movies_agg = (movies.groupby(\"Genre\")\n",
    "                      .agg(mean_rating = ('IMDB_Rating','mean'),\n",
    "                           sd_rating =   ('IMDB_Rating','std'),\n",
    "                           min_rating =  ('IMDB_Rating','min'),\n",
    "                           max_rating =  ('IMDB_Rating','max'))\n",
    "                           .sort_values(\"mean_rating\", ascending = False))"
   ]
  },
  {
   "cell_type": "markdown",
   "metadata": {},
   "source": [
    "<font size = \"5\">\n",
    "\n",
    "(e) Rename column\n",
    "\n",
    "- Create a dictionary\n",
    "- Rename one or more columns in a dataset <br>\n",
    "using the dictionary"
   ]
  },
  {
   "cell_type": "code",
   "execution_count": null,
   "metadata": {},
   "outputs": [],
   "source": [
    "movies_rename_columns = {\"Name\": \"Movie_Title\", \"Length\": \"Runtime\", \"Gross\": \"Revenue\"}\n",
    "\n",
    "movies_rename = movies.rename(columns=movies_rename_columns)\n",
    "\n",
    "print(\"Old List:\")\n",
    "print(movies.columns.values)\n",
    "print(\"\")\n",
    "print(\"New List:\")\n",
    "print(movies_rename.columns.values)\n"
   ]
  },
  {
   "cell_type": "markdown",
   "metadata": {},
   "source": [
    "<font size = \"5\">\n",
    "\n",
    "(f) Merge dataset\n",
    "\n",
    "- Use \"pd.merge\" to combine two datasets: <br>\n",
    "a primary and secondary\n",
    "- Only merge a subset of the columns of the <br>\n",
    "secondary dataset\n",
    "- Use \"display\" to show a the merged dataset,  <br>\n",
    "extracting a subset of the columns"
   ]
  },
  {
   "cell_type": "code",
   "execution_count": null,
   "metadata": {},
   "outputs": [],
   "source": [
    "# The \"pd.merge()\" command combines the information from both datasets\n",
    "# The first argument is the \"primary\" datasets\n",
    "# The second argument is the \"secondary\" dataset (much include the \"on\" column)\n",
    "# The \"on\" is the common variable that is used for merging\n",
    "# how = \"left\" tells Python that the left dataset is the primary one\n",
    "\n",
    "display(races_raw)\n",
    "races_merge = pd.merge(races_raw[['raceId', 'year', 'circuitId']],\n",
    "                       circuits[[\"circuitId\",\"circuit_name\", \"location\"]],\n",
    "                       on = \"circuitId\",\n",
    "                       how = \"left\")"
   ]
  }
 ],
 "metadata": {
  "kernelspec": {
   "display_name": "base",
   "language": "python",
   "name": "python3"
  },
  "language_info": {
   "codemirror_mode": {
    "name": "ipython",
    "version": 3
   },
   "file_extension": ".py",
   "mimetype": "text/x-python",
   "name": "python",
   "nbconvert_exporter": "python",
   "pygments_lexer": "ipython3",
   "version": "3.12.7"
  },
  "orig_nbformat": 4,
  "vscode": {
   "interpreter": {
    "hash": "45fc1f684f6f416f40889115beff3ddf69879b64cf4bfee48cb72a61e9d15d1a"
   }
  }
 },
 "nbformat": 4,
 "nbformat_minor": 2
}
