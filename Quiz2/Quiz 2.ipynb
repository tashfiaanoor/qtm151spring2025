{
 "cells": [
  {
   "attachments": {},
   "cell_type": "markdown",
   "metadata": {},
   "source": [
    "# <span style=\"color:darkblue\"> QTM 151 - Quiz 2 </span>"
   ]
  },
  {
   "attachments": {},
   "cell_type": "markdown",
   "metadata": {},
   "source": [
    "## Try to submit as an HTML file"
   ]
  },
  {
   "attachments": {},
   "cell_type": "markdown",
   "metadata": {},
   "source": [
    "<font size=\"5\"> \n",
    "\n",
    "Print your name below"
   ]
  },
  {
   "cell_type": "code",
   "execution_count": 1,
   "metadata": {},
   "outputs": [],
   "source": [
    "# Write your answer here\n",
    "\n",
    "\n"
   ]
  },
  {
   "attachments": {},
   "cell_type": "markdown",
   "metadata": {},
   "source": [
    "<font size = \"5\" >\n",
    "This quiz is open book \n",
    "\n",
    "- You can use the lecture notes\n",
    "- You will get partial credit for attempting the questions\n",
    "- To get full credit, the code should run as intended\n",
    "- You should <span style=\"color:red\"> NOT </span> communicate with other students\n",
    "\n",
    "Print the following message: <br>\n",
    "\n",
    "\"I will abide by Emory's code of conduct\"\n"
   ]
  },
  {
   "cell_type": "code",
   "execution_count": 2,
   "metadata": {},
   "outputs": [],
   "source": [
    "# Write your answer here:\n",
    "\n",
    "\n"
   ]
  },
  {
   "attachments": {},
   "cell_type": "markdown",
   "metadata": {},
   "source": [
    "<font size = \"5\">\n",
    "\n",
    "Import the libraries \"numpy\", \"matplotlib.pyplot\", <br>\n",
    "\"pandas\", \"statsmodels.api\" and \"statsmodels.formula.api\"\n"
   ]
  },
  {
   "cell_type": "code",
   "execution_count": 3,
   "metadata": {},
   "outputs": [],
   "source": [
    "# Write your answer here\n",
    "\n"
   ]
  },
  {
   "attachments": {},
   "cell_type": "markdown",
   "metadata": {},
   "source": [
    "<font size = \"5\">\n",
    "\n",
    "Read the dataset \"data_quiz/fifa23_players_basic.csv\"\n",
    "\n",
    "- It's a dataset on professional soccer players\n",
    "- Rows correspond to players (18,539)\n",
    "- Columns contain attributes of players (32)\n",
    "- Try to view the dataset before starting <br>\n",
    "to get a sense of its content"
   ]
  },
  {
   "cell_type": "code",
   "execution_count": 4,
   "metadata": {},
   "outputs": [],
   "source": [
    "# Write your own code\n",
    "\n",
    "\n"
   ]
  },
  {
   "attachments": {},
   "cell_type": "markdown",
   "metadata": {},
   "source": [
    "<font size = \"5\">\n",
    "\n",
    "(a) Use queries\n",
    "\n",
    "<font size = \"3\">\n",
    "\n",
    "- Browse the dataset and search for the height variable in cm (centimeters).\n",
    "\n",
    "- Subset the players whose value of the height variable is above 175 <br>\n",
    "and store it in a new dataset\n",
    "- How many players are above this height threshold?\n",
    "\n",
    "HINT: Remember that there is a special syntax for <br>\n",
    "when the column names have spaces (see Lecture 10) <br>\n",
    "and when the value is a string. See example provided."
   ]
  },
  {
   "cell_type": "code",
   "execution_count": 5,
   "metadata": {},
   "outputs": [],
   "source": [
    "# Write your own code\n",
    "\n",
    "# Example: The following code filters whether \n",
    "# observations for which `On Loan` is equal to yes\n",
    "# dataset.query(' `On Loan` == \"YES\" ')\n",
    "# Note: be careful with using backward quotations ` here.\n",
    "# Now apply this to your own example, and calculate the total number of observations.\n",
    "\n",
    "\n"
   ]
  },
  {
   "attachments": {},
   "cell_type": "markdown",
   "metadata": {},
   "source": [
    "<font size = \"5\">\n",
    "\n",
    "(b) Use sorting + \".iloc[]\"\n",
    "\n",
    "<font size = \"3\">\n",
    "\n",
    "The varable \"Contract Until\" shows the date in which a player's contract will expire.\n",
    "- Use \".sort_values()\" to order the \"Contract Until\" column <br>\n",
    "from later dates to earlier dates.\n",
    "- Get a subset with the 5 players in the dataset <br>\n",
    "whose contracts will expire later.\n",
    "- From this subset, display the names and year in which the contract will expire.\n",
    "\n",
    "Your output should look something like this:\n",
    "\n",
    "| Full Name | Contract Until |\n",
    "| -------- | ------- | \n",
    "| José Luis García Vayá | 2032\n",
    "| José Luis García Vayá | 2032\n",
    "| Jon Moncayola Tollar | 2031\n",
    "| Jon Moncayloa Tollar | 2031\n",
    "| Josip Sutalo | 2028\n",
    "| Aurelien Tchouaméni | 2028\n"
   ]
  },
  {
   "cell_type": "code",
   "execution_count": 6,
   "metadata": {},
   "outputs": [],
   "source": [
    "# Write your own code\n",
    "\n",
    "\n"
   ]
  },
  {
   "attachments": {},
   "cell_type": "markdown",
   "metadata": {},
   "source": [
    "<font size = \"5\">\n",
    "\n",
    "(c) Create a function and apply it to a column <br>\n",
    "\n",
    "<font size = \"3\">\n",
    "\n",
    "Step 1:\n",
    "- Define a function with a parameter \"TotalStats\"\n",
    "- If \"TotalStats > 85\", classification = \"Top Performer\"\n",
    "- If \"TotalStats <= 85\", classification = \"Non Top-Performer\"\n",
    "- The function returns \"classification\"\n",
    "\n",
    "Step 2:\n",
    "- Extract the column \"TotalStats\" in the dataset <br>\n",
    "- Create a new variable called \"player_classification\" <br>\n",
    "to assign each player to the correct classification\n",
    "\n",
    "HINT: Use the \".apply()\" function"
   ]
  },
  {
   "cell_type": "code",
   "execution_count": 7,
   "metadata": {},
   "outputs": [],
   "source": [
    "# Write your own code\n",
    "\n",
    "\n"
   ]
  },
  {
   "attachments": {},
   "cell_type": "markdown",
   "metadata": {},
   "source": [
    "<font size = \"5\">\n",
    "\n",
    "(d) Regression function\n",
    "\n",
    "<font size = \"3\">\n",
    "\n",
    "- Run a regression of \"Overall\" (left-hand side) on \"Age\" (right-hand side)\n",
    "- What are the values of the coefficients?\n",
    "\n",
    "[HINT: Use the commands ```smf.ols()``` and ```.fit()``` and ```.params``` <br>\n",
    "from Lecture 11 ]\n"
   ]
  },
  {
   "cell_type": "code",
   "execution_count": 8,
   "metadata": {},
   "outputs": [],
   "source": [
    "# Write your own code\n",
    "\n",
    "\n"
   ]
  },
  {
   "attachments": {},
   "cell_type": "markdown",
   "metadata": {},
   "source": [
    "<font size = \"5\">\n",
    "\n",
    "(e) Split a dataset into subsets\n",
    "\n",
    "<font size = \"3\">\n",
    "\n",
    "- Store the total number of rows of the dataset in a variable called ```n``` <br>\n",
    "- Create a new variable called ```random_var``` drawn from a <br>\n",
    "uniform distribution between 0 and 1 with size ```n```\n",
    "- Use .query() to subset all observations with ```random_var <0.4```.<br>\n",
    "store it in a new dataset called \"data0\"\n",
    "- Use .query() to subset all observations with ```random_var >= 0.4```.<br>\n",
    "store it in a new dataset called \"data1\"\n",
    "\n",
    "[HINT: See Lecture 2 for how to generate a uniform random variable]\n"
   ]
  },
  {
   "cell_type": "code",
   "execution_count": 9,
   "metadata": {},
   "outputs": [],
   "source": [
    "# Write your own code\n",
    "\n",
    "\n"
   ]
  },
  {
   "attachments": {},
   "cell_type": "markdown",
   "metadata": {},
   "source": [
    "<font size = \"5\">\n",
    "\n",
    "(f) Create two overlapping scatter plots\n",
    "\n",
    "<font size = \"3\">\n",
    "\n",
    "- This question requires the two datasets you created in (e)\n",
    "- Display a scatter plot of \"Potential\" vs \"Age\" for \"data0\" using <br>\n",
    "```plt.scatter()```\n",
    "- Display a scatter plot of \"Potential\" vs \"Age\" for \"data1\" overlapping <br> \n",
    "on top of the previous one \n",
    "- You will need to add a legend, label the axes, and the title\n",
    "- To get full points, plot the scatter plot with the option  ```alpha = 0.5```, e.g. <br>\n",
    " ``` plt.hist(x = ..., y = ... , alpha = 0.5) ``` <br>\n",
    " Make sure to substitute the corresponding \"x\" and \"y\" vectors instead of ```...``` <br>\n",
    "(The alpha option sets the transparency of the scatter plot)\n",
    "\n",
    "Note: The goal of this question is to illustrate that random <br>\n",
    "assignment will produce very similar scatter plots for each variable"
   ]
  },
  {
   "cell_type": "code",
   "execution_count": 10,
   "metadata": {},
   "outputs": [],
   "source": [
    "# Write your own code\n",
    "\n"
   ]
  }
 ],
 "metadata": {
  "kernelspec": {
   "display_name": "base",
   "language": "python",
   "name": "python3"
  },
  "language_info": {
   "codemirror_mode": {
    "name": "ipython",
    "version": 3
   },
   "file_extension": ".py",
   "mimetype": "text/x-python",
   "name": "python",
   "nbconvert_exporter": "python",
   "pygments_lexer": "ipython3",
   "version": "3.9.18"
  },
  "orig_nbformat": 4,
  "vscode": {
   "interpreter": {
    "hash": "45fc1f684f6f416f40889115beff3ddf69879b64cf4bfee48cb72a61e9d15d1a"
   }
  }
 },
 "nbformat": 4,
 "nbformat_minor": 2
}
